{
 "metadata": {
  "name": "_merged"
 },
 "nbformat": 3,
 "nbformat_minor": 0,
 "worksheets": [
  {
   "cells": [
    {
     "cell_type": "code",
     "collapsed": false,
     "input": [
      "## parameters\n",
      "x = [1, 2, 4, 8]\n",
      "__save__ = 'x y z'.split()"
     ],
     "language": "python",
     "metadata": {},
     "outputs": []
    }
   ],
   "metadata": {}
  }
 ]
}